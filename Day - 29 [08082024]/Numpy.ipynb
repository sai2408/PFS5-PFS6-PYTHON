{
 "cells": [
  {
   "cell_type": "code",
   "execution_count": 2,
   "id": "e9d0f03a",
   "metadata": {},
   "outputs": [
    {
     "name": "stdout",
     "output_type": "stream",
     "text": [
      "Requirement already satisfied: numpy in c:\\users\\user\\appdata\\local\\programs\\python\\python312\\lib\\site-packages (2.0.1)\n",
      "Note: you may need to restart the kernel to use updated packages.\n"
     ]
    },
    {
     "name": "stderr",
     "output_type": "stream",
     "text": [
      "\n",
      "[notice] A new release of pip is available: 24.0 -> 24.2\n",
      "[notice] To update, run: python.exe -m pip install --upgrade pip\n"
     ]
    }
   ],
   "source": [
    "pip install numpy"
   ]
  },
  {
   "cell_type": "code",
   "execution_count": 3,
   "id": "c614d7cc",
   "metadata": {},
   "outputs": [],
   "source": [
    "import numpy"
   ]
  },
  {
   "cell_type": "code",
   "execution_count": 4,
   "id": "597e45a5-831f-4f94-b96a-f5dc11487cee",
   "metadata": {},
   "outputs": [
    {
     "name": "stdout",
     "output_type": "stream",
     "text": [
      "2.0.1\n"
     ]
    }
   ],
   "source": [
    "print(numpy.__version__)"
   ]
  },
  {
   "cell_type": "code",
   "execution_count": 5,
   "id": "b2ea66f5",
   "metadata": {},
   "outputs": [],
   "source": [
    "import numpy as np"
   ]
  },
  {
   "cell_type": "code",
   "execution_count": 6,
   "id": "3ebb6bc2",
   "metadata": {},
   "outputs": [
    {
     "name": "stdout",
     "output_type": "stream",
     "text": [
      "<built-in function array>\n"
     ]
    }
   ],
   "source": [
    "a = np.array\n",
    "print(a)"
   ]
  },
  {
   "cell_type": "code",
   "execution_count": 7,
   "id": "3235336b",
   "metadata": {},
   "outputs": [
    {
     "name": "stdout",
     "output_type": "stream",
     "text": [
      "[1 2 3]\n"
     ]
    }
   ],
   "source": [
    "#Defining an array\n",
    "a = np.array([1,2,3])\n",
    "print(a)"
   ]
  },
  {
   "cell_type": "code",
   "execution_count": 8,
   "id": "19a68823-b4de-4896-8557-a8ac4ab0b0fe",
   "metadata": {},
   "outputs": [
    {
     "name": "stdout",
     "output_type": "stream",
     "text": [
      "int64\n",
      "<class 'numpy.ndarray'>\n",
      "1\n"
     ]
    }
   ],
   "source": [
    "a = np.array([1,2,3])\n",
    "print(a.dtype)\n",
    "print(type(a))\n",
    "print(a.ndim)"
   ]
  },
  {
   "cell_type": "code",
   "execution_count": 9,
   "id": "94363587",
   "metadata": {},
   "outputs": [
    {
     "name": "stdout",
     "output_type": "stream",
     "text": [
      "[[1 2 3]\n",
      " [4 5 6]]\n",
      "int64\n",
      "<class 'numpy.ndarray'>\n",
      "2\n"
     ]
    }
   ],
   "source": [
    "a = np.array([[1,2,3],[4,5,6]])\n",
    "print(a)\n",
    "print(a.dtype)\n",
    "print(type(a))\n",
    "print(a.ndim)"
   ]
  },
  {
   "cell_type": "code",
   "execution_count": 10,
   "id": "ffe8a76a",
   "metadata": {},
   "outputs": [
    {
     "name": "stdout",
     "output_type": "stream",
     "text": [
      "[1.+0.j 2.+0.j 3.+0.j]\n"
     ]
    }
   ],
   "source": [
    "#Defining Complex numbers\n",
    "a = np.array([1,2,3], complex)\n",
    "print(a)"
   ]
  },
  {
   "cell_type": "code",
   "execution_count": 15,
   "id": "9c2ce6c5",
   "metadata": {},
   "outputs": [
    {
     "name": "stdout",
     "output_type": "stream",
     "text": [
      "6\n",
      "(1, 6)\n"
     ]
    }
   ],
   "source": [
    "#Printing size and shape\n",
    "a = np.array([[1,2,3,4,5,6]])\n",
    "print(a.size) # no.of elements\n",
    "print(a.shape) #(rows,columns)"
   ]
  },
  {
   "cell_type": "code",
   "execution_count": 18,
   "id": "a9913468",
   "metadata": {},
   "outputs": [
    {
     "name": "stdout",
     "output_type": "stream",
     "text": [
      "[[ 1  2  3  4]\n",
      " [ 5  6  7  8]\n",
      " [ 9 10 11 12]]\n",
      "12\n",
      "(3, 4)\n"
     ]
    }
   ],
   "source": [
    "arr = np.array([[1,2,3,4],[5,6,7,8],[9,10,11,12]])\n",
    "print(arr)\n",
    "print(arr.size)\n",
    "print(arr.shape)"
   ]
  },
  {
   "cell_type": "code",
   "execution_count": null,
   "id": "7a992f30",
   "metadata": {},
   "outputs": [],
   "source": [
    "#Reshape - Change of rows and columns\n",
    "a = np.array([[1,2],[3,4],[5,6]])\n",
    "print('Original array')\n",
    "print(a)\n",
    "\n",
    "a = a.reshape(2,3)\n",
    "print('Reshaped array')\n",
    "print(a)"
   ]
  },
  {
   "cell_type": "code",
   "execution_count": null,
   "id": "0e419e26",
   "metadata": {},
   "outputs": [],
   "source": [
    "#Accessing of elements\n",
    "a = np.array([[1,2],[3,4],[5,6]])\n",
    "print(a)\n",
    "\n",
    "print(a[0,1])\n",
    "print(a[2,1])"
   ]
  },
  {
   "cell_type": "code",
   "execution_count": null,
   "id": "09400533",
   "metadata": {},
   "outputs": [],
   "source": [
    "#Basic functions like min,max ans sum in 1D-array\n",
    "a = np.array([1,2,3,50,4,45,4])\n",
    "print(a)\n",
    "print('Maximum number: ', a.max())\n",
    "print('Minimum number: ', a.min())\n",
    "print('Sum of all values: ', a.sum())"
   ]
  },
  {
   "cell_type": "code",
   "execution_count": null,
   "id": "caee7423",
   "metadata": {},
   "outputs": [],
   "source": [
    "np.identity(3)"
   ]
  },
  {
   "cell_type": "code",
   "execution_count": null,
   "id": "824701a7",
   "metadata": {},
   "outputs": [],
   "source": [
    "b = np.zeros((2,4))\n",
    "print(b)"
   ]
  },
  {
   "cell_type": "code",
   "execution_count": null,
   "id": "1ca40d23",
   "metadata": {},
   "outputs": [],
   "source": [
    "b = np.ones((2,4))\n",
    "print(b)"
   ]
  },
  {
   "cell_type": "code",
   "execution_count": null,
   "id": "870e0ac9-3d5d-4d47-8408-abbb030e47a9",
   "metadata": {},
   "outputs": [],
   "source": [
    "a = np.array([[1,2],[3,4],[5,6]])\n",
    "print(a) "
   ]
  },
  {
   "cell_type": "code",
   "execution_count": null,
   "id": "a971734e",
   "metadata": {},
   "outputs": [],
   "source": [
    "#Basic functions like min,max ans sum in 2D-array\n",
    "a = np.array([[1,2],[3,4],[5,6]])\n",
    "print(a)\n",
    "print(\"Max number in column:\", a.max(axis=0))\n",
    "print('Min number in row:',a.min(axis=1))\n",
    "print('Sum of all values in rows:',a.sum(axis=1))"
   ]
  },
  {
   "cell_type": "code",
   "execution_count": null,
   "id": "a759941e",
   "metadata": {},
   "outputs": [],
   "source": [
    "# randn --> generates random number between (-1,0,1)\n",
    "\n",
    "a = np.random.randn(5,3)\n",
    "print(a)"
   ]
  },
  {
   "cell_type": "code",
   "execution_count": null,
   "id": "2d3fc8db",
   "metadata": {},
   "outputs": [],
   "source": [
    "# Arithmetic operation\n",
    "    #Addition\n",
    "    #Subtraction\n",
    "    #Multiplication\n",
    "    #Division\n",
    "a = np.array([[1,2,3],[4,5,6]])\n",
    "b = np.array([[1,2,3],[10,5,15]])\n",
    "\n",
    "print(\"Sum of a and b:\\n \", a+b)\n",
    "print('*********************************')\n",
    "print(\"Sub of a and b:\\n \", a-b)\n",
    "print('*********************************')\n",
    "print(\"Product of a and b:\\n\", a*b)\n",
    "print('*********************************')\n",
    "print(\"division of a and b: \\n\", a/b)"
   ]
  },
  {
   "cell_type": "code",
   "execution_count": null,
   "id": "dded87aa",
   "metadata": {},
   "outputs": [],
   "source": [
    "#Ranging function ---> range()\n",
    "\n",
    "for i in range(11):\n",
    "    print(i, end=' ')"
   ]
  },
  {
   "cell_type": "code",
   "execution_count": null,
   "id": "f98eba26",
   "metadata": {},
   "outputs": [],
   "source": [
    "# Ranging function in numpy --> arange()\n",
    "\n",
    "print(np.arange(12))"
   ]
  },
  {
   "cell_type": "code",
   "execution_count": null,
   "id": "59451f9c",
   "metadata": {},
   "outputs": [],
   "source": [
    "print(np.arange(12).reshape(3,4))"
   ]
  },
  {
   "cell_type": "code",
   "execution_count": null,
   "id": "1e635cfb",
   "metadata": {},
   "outputs": [],
   "source": [
    "arr = np.arange(12).reshape(2,2,3) # --> 2*3, 2*3 (generates 2 matrices)\n",
    "print(arr)\n",
    "print('*********************************')\n",
    "print(arr[0])\n",
    "print('*********************************')\n",
    "print(arr[1])\n",
    "print('*********************************')\n",
    "print(arr[0][1])\n",
    "print('*********************************')\n",
    "print(arr[0][1][2])"
   ]
  },
  {
   "cell_type": "code",
   "execution_count": null,
   "id": "96da889f",
   "metadata": {},
   "outputs": [],
   "source": [
    "#slicing with arange()\n",
    "print(np.arange(12))\n",
    "print(np.arange(12)[0:7])\n",
    "print(np.arange(12)[0:7][1])"
   ]
  },
  {
   "cell_type": "code",
   "execution_count": null,
   "id": "b258f4b7",
   "metadata": {},
   "outputs": [],
   "source": [
    "log = np.logspace(10,20, num = 5)\n",
    "print(log)"
   ]
  },
  {
   "cell_type": "code",
   "execution_count": null,
   "id": "00af147f",
   "metadata": {},
   "outputs": [],
   "source": [
    "arr = np.linspace(10,20,5)\n",
    "print(arr)"
   ]
  },
  {
   "cell_type": "markdown",
   "id": "3385bc6c-23ad-4729-83a5-baad957a08da",
   "metadata": {},
   "source": [
    "# Numpy Broadcasting"
   ]
  },
  {
   "cell_type": "code",
   "execution_count": null,
   "id": "bbf1edd3",
   "metadata": {},
   "outputs": [],
   "source": [
    "a = np.array([1,2,3,4,5,6,7])\n",
    "b = np.array([2,4,6,8,10,12,14])\n",
    "c = a*b\n",
    "print(c)"
   ]
  },
  {
   "cell_type": "code",
   "execution_count": null,
   "id": "562f1a80",
   "metadata": {},
   "outputs": [],
   "source": [
    "a = np.array([[1,2,3,4],[5,6,7,8],[9,10,11,12]])\n",
    "b = np.array([2,4,6,8])\n",
    "print(a)\n",
    "print('*********************************')\n",
    "print(b)\n",
    "print('*********************************')\n",
    "print(a+b)\n",
    "print('*********************************')\n",
    "print(a-b)\n",
    "print('*********************************')\n",
    "print(a*b)"
   ]
  },
  {
   "cell_type": "code",
   "execution_count": null,
   "id": "8a8bd575",
   "metadata": {},
   "outputs": [],
   "source": [
    "arr1 = np.arange(15).reshape(5,3)\n",
    "print(arr1)\n",
    "print('*********************************')\n",
    "arr2 = np.arange(5).reshape(5,1)\n",
    "print(arr2)\n",
    "print('*********************************')\n",
    "print(arr1 + arr2)"
   ]
  },
  {
   "cell_type": "code",
   "execution_count": null,
   "id": "ace0dd94",
   "metadata": {},
   "outputs": [],
   "source": [
    "print(np.array(['apple','banana','cherry']))\n",
    "print('*********************************')\n",
    "print(np.array([['welcome'],['hi']]))"
   ]
  },
  {
   "cell_type": "code",
   "execution_count": null,
   "id": "e1107efa",
   "metadata": {},
   "outputs": [],
   "source": [
    "print(np.char.add(['welcome'],['hi']))"
   ]
  },
  {
   "cell_type": "code",
   "execution_count": null,
   "id": "ad1cafc6",
   "metadata": {},
   "outputs": [],
   "source": [
    "arr = np.array([\"A\",\"B\",\"C\"])\n",
    "result = np.char.multiply(arr,3)\n",
    "print(result)"
   ]
  },
  {
   "cell_type": "code",
   "execution_count": null,
   "id": "4d05bf6c",
   "metadata": {},
   "outputs": [],
   "source": [
    "# Round function ---> around()\n",
    "\n",
    "arr = np.array([12.2, 90.12, 12.54789, 52.86745678])\n",
    "print(arr)\n",
    "print(\"Rounding function: \", np.around(arr))\n",
    "print('*********************************')\n",
    "print(\"With decimal:\",np.around(arr, 2) )"
   ]
  },
  {
   "cell_type": "code",
   "execution_count": null,
   "id": "02a5e84f",
   "metadata": {},
   "outputs": [],
   "source": [
    "arr = np.array([12.2, 90.12, 12.54, 52.85])\n",
    "print(\"Floor: \", np.floor(arr))\n",
    "print(\"Ceil: \", np.ceil(arr))"
   ]
  },
  {
   "cell_type": "code",
   "execution_count": null,
   "id": "f04f6606",
   "metadata": {},
   "outputs": [],
   "source": [
    "# Mean, Median, Average\n",
    "\n",
    "a = np.array([[1,2,3],[4,5,6],[7,8,9]])\n",
    "print(a)\n",
    "print('*********************************')\n",
    "print(np.median(a))\n",
    "print('*********************************')\n",
    "print(np.median(a,0)) #--> axis = columns\n",
    "print('*********************************')\n",
    "print(np.median(a,1)) # --> axis = rows\n",
    "print('*********************************')\n",
    "print(np.mean(a))\n",
    "print('*********************************')\n",
    "print(np.average(a))"
   ]
  },
  {
   "cell_type": "code",
   "execution_count": null,
   "id": "55ebd35e",
   "metadata": {},
   "outputs": [],
   "source": [
    "a = np.array([[1,2,3],[4,5,6],[7,8,9]])\n",
    "print(a)\n",
    "print('*********************************')\n",
    "at = a.T # Transpose --> rows changes to columns, columns changes to rows\n",
    "print(at)"
   ]
  },
  {
   "cell_type": "code",
   "execution_count": null,
   "id": "e1ca817a",
   "metadata": {},
   "outputs": [],
   "source": [
    "a = np.array([[100,200],[30,40]])\n",
    "b = np.array([[10,20],[50,60]])\n",
    "print(a)\n",
    "print('*********************************')\n",
    "print(b)\n",
    "print('*********************************')\n",
    "print(a*b) # --> Multiplication\n",
    "print('*********************************')\n",
    "x = np.dot(a,b) # --> Dot product\n",
    "print(x)"
   ]
  },
  {
   "cell_type": "code",
   "execution_count": null,
   "id": "e9100493",
   "metadata": {},
   "outputs": [],
   "source": []
  },
  {
   "cell_type": "code",
   "execution_count": null,
   "id": "a9ac3ad6",
   "metadata": {},
   "outputs": [],
   "source": []
  },
  {
   "cell_type": "code",
   "execution_count": null,
   "id": "78748714",
   "metadata": {},
   "outputs": [],
   "source": []
  }
 ],
 "metadata": {
  "kernelspec": {
   "display_name": "Python 3 (ipykernel)",
   "language": "python",
   "name": "python3"
  },
  "language_info": {
   "codemirror_mode": {
    "name": "ipython",
    "version": 3
   },
   "file_extension": ".py",
   "mimetype": "text/x-python",
   "name": "python",
   "nbconvert_exporter": "python",
   "pygments_lexer": "ipython3",
   "version": "3.12.4"
  }
 },
 "nbformat": 4,
 "nbformat_minor": 5
}
